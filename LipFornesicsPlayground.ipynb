{
 "cells": [
  {
   "cell_type": "code",
   "execution_count": 1,
   "metadata": {},
   "outputs": [],
   "source": [
    "import numpy as np\n",
    "import matplotlib.pyplot as plt\n",
    "import os\n",
    "import cv2\n",
    "from preprocessor import *\n",
    "import torch\n",
    "from copiedpreprocessor import *\n",
    "from sklearn.model_selection import train_test_split\n",
    "from models.mstcn import *\n",
    "from models.resnet_feature_extractor import *\n",
    "from FeatureExtractor import *"
   ]
  },
  {
   "cell_type": "code",
   "execution_count": null,
   "metadata": {},
   "outputs": [],
   "source": [
    "ExtractFeaturesFromMouthFrames(\"processedDataset/realframes.npz\", \"featuresExtracted/realfeatures32.npz\")\n",
    "ExtractFeaturesFromMouthFrames(\"processedDataset/deepfakesframes.npz\", \"featuresExtracted/deepfakesfeatures32.npz\")"
   ]
  },
  {
   "cell_type": "code",
   "execution_count": 2,
   "metadata": {},
   "outputs": [],
   "source": [
    "\n",
    "ExtractFeaturesFromMouthFrames(\"processedDataset/face2faceframes.npz\", \"featuresExtracted/face2facefeatures.npz\")\n",
    "ExtractFeaturesFromMouthFrames(\"processedDataset/faceswapframes.npz\", \"featuresExtracted/faceswapfeatures.npz\")\n",
    "ExtractFeaturesFromMouthFrames(\"processedDataset/neuraltexturesframes.npz\", \"featuresExtracted/neuraltexturesfeatures.npz\")"
   ]
  },
  {
   "cell_type": "code",
   "execution_count": 3,
   "metadata": {},
   "outputs": [],
   "source": [
    "MSTCNModel = load_mstcn_model('pretrainedModels/mstcn.pth',configfile=\"models/configs/mstcn.json\")"
   ]
  },
  {
   "cell_type": "code",
   "execution_count": 4,
   "metadata": {},
   "outputs": [],
   "source": [
    "#Finetune model.tcn by training it on features extracted from real and fake videos\n",
    "FakeFeaturesPath = 'featuresExtracted/deepfakesfeatures.npz'\n",
    "RealFeaturesPath = 'featuresExtracted/realfeatures.npz'\n",
    "fakeFeatures = np.load(FakeFeaturesPath)['features']\n",
    "realFeatures = np.load(RealFeaturesPath)['features']\n",
    "# fakeFeatures = fakeFeatures.reshape(fakeFeatures.shape[0], fakeFeatures.shape[2], fakeFeatures.shape[3])\n",
    "# realFeatures = realFeatures.reshape(realFeatures.shape[0], realFeatures.shape[2], realFeatures.shape[3])\n",
    "fakeLabels = np.zeros((fakeFeatures.shape[0],1))\n",
    "realLabels = np.ones((realFeatures.shape[0],1))\n",
    "features = np.concatenate((fakeFeatures, realFeatures), axis=0)\n",
    "labels = np.concatenate((fakeLabels, realLabels), axis=0)\n",
    "#shuffle features and labels\n",
    "indices = np.arange(features.shape[0])\n",
    "np.random.shuffle(indices)\n",
    "features = features[indices]\n",
    "labels = labels[indices]\n",
    "\n",
    "X_train, X_test, y_train, y_test = train_test_split(features, labels, test_size=0.2, random_state=42)\n",
    "\n",
    "trainloader = torch.utils.data.DataLoader(list(zip(X_train, y_train)), batch_size=32, shuffle=True)\n",
    "testloader = torch.utils.data.DataLoader(list(zip(X_test, y_test)), batch_size=32, shuffle=True)"
   ]
  },
  {
   "cell_type": "code",
   "execution_count": 5,
   "metadata": {},
   "outputs": [],
   "source": [
    "learning_rate = 2e-4\n",
    "batch_size = 32"
   ]
  },
  {
   "cell_type": "code",
   "execution_count": 6,
   "metadata": {},
   "outputs": [],
   "source": [
    "def calculateAccuracy(preds,labels):\n",
    "   \n",
    "    preds = np.array(preds).flatten()\n",
    "    labels = np.array(labels).flatten()\n",
    "    return (preds == labels).mean()"
   ]
  },
  {
   "cell_type": "code",
   "execution_count": 7,
   "metadata": {},
   "outputs": [
    {
     "name": "stdout",
     "output_type": "stream",
     "text": [
      "Epoch: 1, loss: 0.875\n",
      "accuracy: 0.738\n",
      "Epoch: 2, loss: 0.401\n",
      "accuracy: 0.831\n",
      "Epoch: 3, loss: 0.307\n",
      "accuracy: 0.870\n",
      "Epoch: 4, loss: 0.261\n",
      "accuracy: 0.897\n",
      "Epoch: 5, loss: 0.201\n",
      "accuracy: 0.920\n",
      "Epoch: 6, loss: 0.158\n",
      "accuracy: 0.937\n",
      "Epoch: 7, loss: 0.134\n",
      "accuracy: 0.949\n",
      "Epoch: 8, loss: 0.117\n",
      "accuracy: 0.955\n",
      "Epoch: 9, loss: 0.107\n",
      "accuracy: 0.961\n",
      "Epoch: 10, loss: 0.075\n",
      "accuracy: 0.972\n"
     ]
    }
   ],
   "source": [
    "epochs = 10\n",
    "optimizer = torch.optim.Adam(MSTCNModel.parameters(), lr=learning_rate)\n",
    "criterion = nn.BCELoss()\n",
    "\n",
    "for epoch in range(epochs):\n",
    "    running_loss = 0.0\n",
    "    all_labels = []\n",
    "    all_preds = []\n",
    "    for i, data in enumerate(trainloader, 0):\n",
    "        inputs, labels = data\n",
    "        inputs = inputs.cuda().float()\n",
    "        labels = labels.cuda().float()\n",
    "        optimizer.zero_grad()\n",
    "        outputs = MSTCNModel(inputs, lengths=[inputs.shape[1] for i in range(inputs.shape[0])])\n",
    "        loss = criterion(outputs, labels)\n",
    "        loss.backward()\n",
    "        optimizer.step()\n",
    "        running_loss += loss.item()\n",
    "\n",
    "        all_preds.extend(torch.round(outputs).detach().cpu().numpy())\n",
    "        all_labels.extend(labels.detach().cpu().numpy())\n",
    "        \n",
    "    print('Epoch: %d, loss: %.3f' % (epoch + 1, running_loss / (i + 1)))\n",
    "    print('accuracy: %.3f' % (calculateAccuracy(all_preds, all_labels)))"
   ]
  },
  {
   "cell_type": "code",
   "execution_count": 9,
   "metadata": {},
   "outputs": [
    {
     "name": "stdout",
     "output_type": "stream",
     "text": [
      "accuracy: 0.898\n"
     ]
    }
   ],
   "source": [
    "MSTCNModel.eval()\n",
    "\n",
    "#Calculate accuracy on test set\n",
    "all_labels = []\n",
    "all_preds = []\n",
    "for i, data in enumerate(testloader, 0):\n",
    "    inputs, labels = data\n",
    "    inputs = inputs.cuda().float()\n",
    "    labels = labels.cuda().float()\n",
    "    outputs = MSTCNModel(inputs, lengths=[inputs.shape[1] for i in range(inputs.shape[0])])\n",
    "    all_preds.extend(torch.round(outputs).detach().cpu().numpy())\n",
    "    all_labels.extend(labels.detach().cpu().numpy())\n",
    "print('accuracy: %.3f' % (calculateAccuracy(all_preds, all_labels)))"
   ]
  },
  {
   "cell_type": "code",
   "execution_count": 10,
   "metadata": {},
   "outputs": [],
   "source": [
    "torch.save(MSTCNModel.state_dict(), 'trainedclassifiers/mstcn_deepfakes_1.pth')"
   ]
  },
  {
   "cell_type": "code",
   "execution_count": null,
   "metadata": {},
   "outputs": [],
   "source": []
  }
 ],
 "metadata": {
  "kernelspec": {
   "display_name": "base",
   "language": "python",
   "name": "python3"
  },
  "language_info": {
   "codemirror_mode": {
    "name": "ipython",
    "version": 3
   },
   "file_extension": ".py",
   "mimetype": "text/x-python",
   "name": "python",
   "nbconvert_exporter": "python",
   "pygments_lexer": "ipython3",
   "version": "3.9.7"
  },
  "orig_nbformat": 4
 },
 "nbformat": 4,
 "nbformat_minor": 2
}
