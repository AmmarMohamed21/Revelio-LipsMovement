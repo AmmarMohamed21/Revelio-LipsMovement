{
 "cells": [
  {
   "cell_type": "code",
   "execution_count": 2,
   "metadata": {},
   "outputs": [],
   "source": [
    "from LipMovementClassifier import *"
   ]
  },
  {
   "cell_type": "code",
   "execution_count": 1,
   "metadata": {},
   "outputs": [],
   "source": [
    "learningrates = [1e-3, 1e-4, 2e-4, 5e-4, 1e-5]\n",
    "fakedatasets = ['featuresExtracted/deepfakesfeatures.npz', 'featuresExtracted/faceswapfeatures.npz', 'featuresExtracted/neuraltexturesfeatures.npz', 'featuresExtracted/face2facefeatures.npz']"
   ]
  },
  {
   "cell_type": "code",
   "execution_count": 3,
   "metadata": {},
   "outputs": [
    {
     "name": "stdout",
     "output_type": "stream",
     "text": [
      "Epoch: 1, loss: 1.657\n",
      "accuracy: 0.770\n",
      "AUC: 0.833\n",
      "Epoch: 2, loss: 0.293\n",
      "accuracy: 0.883\n",
      "AUC: 0.954\n",
      "Epoch: 3, loss: 0.233\n",
      "accuracy: 0.915\n",
      "AUC: 0.973\n",
      "Epoch: 4, loss: 0.153\n",
      "accuracy: 0.943\n",
      "AUC: 0.987\n",
      "Epoch: 5, loss: 0.141\n",
      "accuracy: 0.947\n",
      "AUC: 0.989\n",
      "Epoch: 6, loss: 0.105\n",
      "accuracy: 0.960\n",
      "AUC: 0.994\n",
      "Epoch: 7, loss: 0.105\n",
      "accuracy: 0.962\n",
      "AUC: 0.994\n",
      "Epoch: 8, loss: 0.076\n",
      "accuracy: 0.970\n",
      "AUC: 0.997\n",
      "Epoch: 9, loss: 0.077\n",
      "accuracy: 0.972\n",
      "AUC: 0.997\n",
      "Epoch: 10, loss: 0.055\n",
      "accuracy: 0.981\n",
      "AUC: 0.998\n",
      "Time of Training: 803.612\n",
      "Test Set Evaluation:\n",
      "Test Videos Accuracy: 0.979\n",
      "Test Videos AUC: 0.997\n",
      "Test Videos Confusion Matrix:\n",
      "[[139   1]\n",
      " [  5 135]]\n",
      "Test Videos Classification Report:\n",
      "              precision    recall  f1-score   support\n",
      "\n",
      "         0.0       0.97      0.99      0.98       140\n",
      "         1.0       0.99      0.96      0.98       140\n",
      "\n",
      "    accuracy                           0.98       280\n",
      "   macro avg       0.98      0.98      0.98       280\n",
      "weighted avg       0.98      0.98      0.98       280\n",
      "\n",
      "Test Accuracy: 0.930\n",
      "Test AUC: 0.984\n",
      "Test Confusion Matrix:\n",
      "[[1595   85]\n",
      " [ 150 1530]]\n",
      "Test Classification Report:\n",
      "              precision    recall  f1-score   support\n",
      "\n",
      "         0.0       0.91      0.95      0.93      1680\n",
      "         1.0       0.95      0.91      0.93      1680\n",
      "\n",
      "    accuracy                           0.93      3360\n",
      "   macro avg       0.93      0.93      0.93      3360\n",
      "weighted avg       0.93      0.93      0.93      3360\n",
      "\n"
     ]
    }
   ],
   "source": [
    "for dataset in fakedatasets:\n",
    "    for learningrate in learningrates:\n",
    "        print(\"Dataset: \", dataset)\n",
    "        print(\"Learning rate: \", learningrate)\n",
    "        classifer = LipMovementClassifier(dataset, learning_rate=learningrate)\n",
    "        classifer.train()\n",
    "        classifer.test()"
   ]
  }
 ],
 "metadata": {
  "kernelspec": {
   "display_name": "base",
   "language": "python",
   "name": "python3"
  },
  "language_info": {
   "codemirror_mode": {
    "name": "ipython",
    "version": 3
   },
   "file_extension": ".py",
   "mimetype": "text/x-python",
   "name": "python",
   "nbconvert_exporter": "python",
   "pygments_lexer": "ipython3",
   "version": "3.9.7"
  },
  "orig_nbformat": 4
 },
 "nbformat": 4,
 "nbformat_minor": 2
}
